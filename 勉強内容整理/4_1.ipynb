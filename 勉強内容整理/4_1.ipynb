{
  "cells": [
    {
      "cell_type": "markdown",
      "metadata": {
        "id": "LlS4gyYqJVpn"
      },
      "source": [
        "# 로지스틱 회귀\n",
        "- 분류임! "
      ]
    },
    {
      "cell_type": "markdown",
      "source": [
        "럭키백 \n",
        "- 구매자는 머가 들어있는지 모르는 제품을 삼\n",
        "- 그 제품에는 무슨 생선이 몇퍼확률로 있을지 적혀있어야함\n"
      ],
      "metadata": {
        "id": "OWbBgX4tBfl6"
      }
    },
    {
      "cell_type": "markdown",
      "metadata": {
        "id": "tQBDVUjBbIsL"
      },
      "source": [
        "## 럭키백의 확률"
      ]
    },
    {
      "cell_type": "markdown",
      "metadata": {
        "id": "ILi_LPl9JVpw"
      },
      "source": [
        "### 데이터 준비하기"
      ]
    },
    {
      "cell_type": "code",
      "execution_count": null,
      "metadata": {
        "colab": {
          "base_uri": "https://localhost:8080/",
          "height": 206
        },
        "id": "Mba6QeEmLn3r",
        "outputId": "5641a8b6-7762-4015-a55a-350b18829eeb"
      },
      "outputs": [
        {
          "output_type": "execute_result",
          "data": {
            "text/html": [
              "\n",
              "  <div id=\"df-8efc20f1-d45f-4c04-9651-f3f9c96fe62b\">\n",
              "    <div class=\"colab-df-container\">\n",
              "      <div>\n",
              "<style scoped>\n",
              "    .dataframe tbody tr th:only-of-type {\n",
              "        vertical-align: middle;\n",
              "    }\n",
              "\n",
              "    .dataframe tbody tr th {\n",
              "        vertical-align: top;\n",
              "    }\n",
              "\n",
              "    .dataframe thead th {\n",
              "        text-align: right;\n",
              "    }\n",
              "</style>\n",
              "<table border=\"1\" class=\"dataframe\">\n",
              "  <thead>\n",
              "    <tr style=\"text-align: right;\">\n",
              "      <th></th>\n",
              "      <th>Species</th>\n",
              "      <th>Weight</th>\n",
              "      <th>Length</th>\n",
              "      <th>Diagonal</th>\n",
              "      <th>Height</th>\n",
              "      <th>Width</th>\n",
              "    </tr>\n",
              "  </thead>\n",
              "  <tbody>\n",
              "    <tr>\n",
              "      <th>0</th>\n",
              "      <td>Bream</td>\n",
              "      <td>242.0</td>\n",
              "      <td>25.4</td>\n",
              "      <td>30.0</td>\n",
              "      <td>11.5200</td>\n",
              "      <td>4.0200</td>\n",
              "    </tr>\n",
              "    <tr>\n",
              "      <th>1</th>\n",
              "      <td>Bream</td>\n",
              "      <td>290.0</td>\n",
              "      <td>26.3</td>\n",
              "      <td>31.2</td>\n",
              "      <td>12.4800</td>\n",
              "      <td>4.3056</td>\n",
              "    </tr>\n",
              "    <tr>\n",
              "      <th>2</th>\n",
              "      <td>Bream</td>\n",
              "      <td>340.0</td>\n",
              "      <td>26.5</td>\n",
              "      <td>31.1</td>\n",
              "      <td>12.3778</td>\n",
              "      <td>4.6961</td>\n",
              "    </tr>\n",
              "    <tr>\n",
              "      <th>3</th>\n",
              "      <td>Bream</td>\n",
              "      <td>363.0</td>\n",
              "      <td>29.0</td>\n",
              "      <td>33.5</td>\n",
              "      <td>12.7300</td>\n",
              "      <td>4.4555</td>\n",
              "    </tr>\n",
              "    <tr>\n",
              "      <th>4</th>\n",
              "      <td>Bream</td>\n",
              "      <td>430.0</td>\n",
              "      <td>29.0</td>\n",
              "      <td>34.0</td>\n",
              "      <td>12.4440</td>\n",
              "      <td>5.1340</td>\n",
              "    </tr>\n",
              "  </tbody>\n",
              "</table>\n",
              "</div>\n",
              "      <button class=\"colab-df-convert\" onclick=\"convertToInteractive('df-8efc20f1-d45f-4c04-9651-f3f9c96fe62b')\"\n",
              "              title=\"Convert this dataframe to an interactive table.\"\n",
              "              style=\"display:none;\">\n",
              "        \n",
              "  <svg xmlns=\"http://www.w3.org/2000/svg\" height=\"24px\"viewBox=\"0 0 24 24\"\n",
              "       width=\"24px\">\n",
              "    <path d=\"M0 0h24v24H0V0z\" fill=\"none\"/>\n",
              "    <path d=\"M18.56 5.44l.94 2.06.94-2.06 2.06-.94-2.06-.94-.94-2.06-.94 2.06-2.06.94zm-11 1L8.5 8.5l.94-2.06 2.06-.94-2.06-.94L8.5 2.5l-.94 2.06-2.06.94zm10 10l.94 2.06.94-2.06 2.06-.94-2.06-.94-.94-2.06-.94 2.06-2.06.94z\"/><path d=\"M17.41 7.96l-1.37-1.37c-.4-.4-.92-.59-1.43-.59-.52 0-1.04.2-1.43.59L10.3 9.45l-7.72 7.72c-.78.78-.78 2.05 0 2.83L4 21.41c.39.39.9.59 1.41.59.51 0 1.02-.2 1.41-.59l7.78-7.78 2.81-2.81c.8-.78.8-2.07 0-2.86zM5.41 20L4 18.59l7.72-7.72 1.47 1.35L5.41 20z\"/>\n",
              "  </svg>\n",
              "      </button>\n",
              "      \n",
              "  <style>\n",
              "    .colab-df-container {\n",
              "      display:flex;\n",
              "      flex-wrap:wrap;\n",
              "      gap: 12px;\n",
              "    }\n",
              "\n",
              "    .colab-df-convert {\n",
              "      background-color: #E8F0FE;\n",
              "      border: none;\n",
              "      border-radius: 50%;\n",
              "      cursor: pointer;\n",
              "      display: none;\n",
              "      fill: #1967D2;\n",
              "      height: 32px;\n",
              "      padding: 0 0 0 0;\n",
              "      width: 32px;\n",
              "    }\n",
              "\n",
              "    .colab-df-convert:hover {\n",
              "      background-color: #E2EBFA;\n",
              "      box-shadow: 0px 1px 2px rgba(60, 64, 67, 0.3), 0px 1px 3px 1px rgba(60, 64, 67, 0.15);\n",
              "      fill: #174EA6;\n",
              "    }\n",
              "\n",
              "    [theme=dark] .colab-df-convert {\n",
              "      background-color: #3B4455;\n",
              "      fill: #D2E3FC;\n",
              "    }\n",
              "\n",
              "    [theme=dark] .colab-df-convert:hover {\n",
              "      background-color: #434B5C;\n",
              "      box-shadow: 0px 1px 3px 1px rgba(0, 0, 0, 0.15);\n",
              "      filter: drop-shadow(0px 1px 2px rgba(0, 0, 0, 0.3));\n",
              "      fill: #FFFFFF;\n",
              "    }\n",
              "  </style>\n",
              "\n",
              "      <script>\n",
              "        const buttonEl =\n",
              "          document.querySelector('#df-8efc20f1-d45f-4c04-9651-f3f9c96fe62b button.colab-df-convert');\n",
              "        buttonEl.style.display =\n",
              "          google.colab.kernel.accessAllowed ? 'block' : 'none';\n",
              "\n",
              "        async function convertToInteractive(key) {\n",
              "          const element = document.querySelector('#df-8efc20f1-d45f-4c04-9651-f3f9c96fe62b');\n",
              "          const dataTable =\n",
              "            await google.colab.kernel.invokeFunction('convertToInteractive',\n",
              "                                                     [key], {});\n",
              "          if (!dataTable) return;\n",
              "\n",
              "          const docLinkHtml = 'Like what you see? Visit the ' +\n",
              "            '<a target=\"_blank\" href=https://colab.research.google.com/notebooks/data_table.ipynb>data table notebook</a>'\n",
              "            + ' to learn more about interactive tables.';\n",
              "          element.innerHTML = '';\n",
              "          dataTable['output_type'] = 'display_data';\n",
              "          await google.colab.output.renderOutput(dataTable, element);\n",
              "          const docLink = document.createElement('div');\n",
              "          docLink.innerHTML = docLinkHtml;\n",
              "          element.appendChild(docLink);\n",
              "        }\n",
              "      </script>\n",
              "    </div>\n",
              "  </div>\n",
              "  "
            ],
            "text/plain": [
              "  Species  Weight  Length  Diagonal   Height   Width\n",
              "0   Bream   242.0    25.4      30.0  11.5200  4.0200\n",
              "1   Bream   290.0    26.3      31.2  12.4800  4.3056\n",
              "2   Bream   340.0    26.5      31.1  12.3778  4.6961\n",
              "3   Bream   363.0    29.0      33.5  12.7300  4.4555\n",
              "4   Bream   430.0    29.0      34.0  12.4440  5.1340"
            ]
          },
          "metadata": {},
          "execution_count": 23
        }
      ],
      "source": [
        "import pandas as pd\n",
        "\n",
        "fish = pd.read_csv('https://bit.ly/fish_csv_data')\n",
        "fish.head()\n",
        "# 판다스로 데이터 불러오면 csv의 첫줄을 자동으로 인식해서 열제목으로 만듦 ex_ weifht , length"
      ]
    },
    {
      "cell_type": "code",
      "execution_count": null,
      "metadata": {
        "colab": {
          "base_uri": "https://localhost:8080/"
        },
        "id": "UWJWlRCHVWUg",
        "outputId": "9ccd9c40-96e7-4c53-d3ee-174ac3aa6a53"
      },
      "outputs": [
        {
          "output_type": "stream",
          "name": "stdout",
          "text": [
            "['Bream' 'Roach' 'Whitefish' 'Parkki' 'Perch' 'Pike' 'Smelt']\n"
          ]
        }
      ],
      "source": [
        "print(pd.unique(fish['Species']))\n",
        "# unique 함수를 사용하면 해당 열의 고유값을 추출할 수 있음\n",
        "# 이 열은 생선의 종류이므로 타겟값이 됨 "
      ]
    },
    {
      "cell_type": "code",
      "execution_count": null,
      "metadata": {
        "id": "8JjMXc9wVE7C"
      },
      "outputs": [],
      "source": [
        "fish_input = fish[['Weight','Length','Diagonal','Height','Width']].to_numpy()\n",
        "# 원하는 데이터 열을 선택해서 넘파이 배열로 변경 후 저장 "
      ]
    },
    {
      "cell_type": "code",
      "execution_count": null,
      "metadata": {
        "colab": {
          "base_uri": "https://localhost:8080/"
        },
        "id": "1T6C1d5iMzb8",
        "outputId": "40695562-bef6-42af-c199-003a4ea9a7d5",
        "scrolled": true
      },
      "outputs": [
        {
          "output_type": "stream",
          "name": "stdout",
          "text": [
            "[[242.      25.4     30.      11.52     4.02  ]\n",
            " [290.      26.3     31.2     12.48     4.3056]\n",
            " [340.      26.5     31.1     12.3778   4.6961]\n",
            " [363.      29.      33.5     12.73     4.4555]\n",
            " [430.      29.      34.      12.444    5.134 ]]\n"
          ]
        }
      ],
      "source": [
        "print(fish_input[:5])"
      ]
    },
    {
      "cell_type": "code",
      "execution_count": null,
      "metadata": {
        "id": "aB2oHhojTfWE"
      },
      "outputs": [],
      "source": [
        "fish_target = fish['Species'].to_numpy()\n",
        "# 타겟용 만들기 "
      ]
    },
    {
      "cell_type": "code",
      "execution_count": null,
      "metadata": {
        "id": "dkllezAJW63K"
      },
      "outputs": [],
      "source": [
        "from sklearn.model_selection import train_test_split\n",
        "\n",
        "train_input, test_input, train_target, test_target = train_test_split(\n",
        "    fish_input, fish_target, random_state=42)"
      ]
    },
    {
      "cell_type": "code",
      "execution_count": null,
      "metadata": {
        "id": "H0ujq0BjXpfp"
      },
      "outputs": [],
      "source": [
        "from sklearn.preprocessing import StandardScaler\n",
        "\n",
        "# 훈련세트와 테스트세트 표준화 전처리를 위해서 Standard Scaler 사용 \n",
        "ss = StandardScaler()\n",
        "# 훈련시키고 \n",
        "ss.fit(train_input)\n",
        "\n",
        "# 데이터들을 변환 \n",
        "train_scaled = ss.transform(train_input)\n",
        "test_scaled = ss.transform(test_input)"
      ]
    },
    {
      "cell_type": "markdown",
      "metadata": {
        "id": "oAxk-V5kQcgc"
      },
      "source": [
        "### k-최근접 이웃 분류기의 확률 예측"
      ]
    },
    {
      "cell_type": "code",
      "execution_count": null,
      "metadata": {
        "colab": {
          "base_uri": "https://localhost:8080/"
        },
        "id": "BYWTNPOdXOfr",
        "outputId": "0f171ba1-a837-481f-86e2-d259333ab15c"
      },
      "outputs": [
        {
          "output_type": "stream",
          "name": "stdout",
          "text": [
            "0.8907563025210085\n",
            "0.85\n"
          ]
        }
      ],
      "source": [
        "from sklearn.neighbors import KNeighborsClassifier\n",
        "\n",
        "kn = KNeighborsClassifier(n_neighbors=3)\n",
        "kn.fit(train_scaled, train_target)\n",
        "\n",
        "print(kn.score(train_scaled, train_target))\n",
        "print(kn.score(test_scaled, test_target))\n"
      ]
    },
    {
      "cell_type": "markdown",
      "source": [
        "다중 분류 \n",
        "- 타겟의 속성은 7가지 종류의 생선들 \n",
        "- 타겟데이터에 2가지 아싱의 클래스가 포함된 문제 **다중 분류**\n",
        "\n"
      ],
      "metadata": {
        "id": "fW6m-VnHCUqf"
      }
    },
    {
      "cell_type": "code",
      "execution_count": null,
      "metadata": {
        "colab": {
          "base_uri": "https://localhost:8080/"
        },
        "id": "a879-O42RhFO",
        "outputId": "83bdbe58-6e32-442f-ec26-52480d648cd9"
      },
      "outputs": [
        {
          "output_type": "stream",
          "name": "stdout",
          "text": [
            "['Bream' 'Parkki' 'Perch' 'Pike' 'Roach' 'Smelt' 'Whitefish']\n"
          ]
        }
      ],
      "source": [
        "print(kn.classes_)\n",
        "# 순서는 알파벳 순으로 정렬됨 "
      ]
    },
    {
      "cell_type": "code",
      "execution_count": null,
      "metadata": {
        "colab": {
          "base_uri": "https://localhost:8080/"
        },
        "id": "EucmtF8HVOS_",
        "outputId": "778f211c-058a-4a82-f48c-47f25f9a8a91"
      },
      "outputs": [
        {
          "output_type": "stream",
          "name": "stdout",
          "text": [
            "['Perch' 'Smelt' 'Pike' 'Perch' 'Perch']\n"
          ]
        }
      ],
      "source": [
        "print(kn.predict(test_scaled[:5]))"
      ]
    },
    {
      "cell_type": "code",
      "execution_count": null,
      "metadata": {
        "colab": {
          "base_uri": "https://localhost:8080/"
        },
        "id": "OSDr8WSKXbUa",
        "outputId": "84935f14-2258-4d92-99b7-03c6d0b096ed"
      },
      "outputs": [
        {
          "output_type": "stream",
          "name": "stdout",
          "text": [
            "[[0.     0.     1.     0.     0.     0.     0.    ]\n",
            " [0.     0.     0.     0.     0.     1.     0.    ]\n",
            " [0.     0.     0.     1.     0.     0.     0.    ]\n",
            " [0.     0.     0.6667 0.     0.3333 0.     0.    ]\n",
            " [0.     0.     0.6667 0.     0.3333 0.     0.    ]]\n"
          ]
        }
      ],
      "source": [
        "import numpy as np\n",
        "\n",
        "proba = kn.predict_proba(test_scaled[:5])\n",
        "# predict_proda() 메서드는 클래스별 확률 값을 반환 \n",
        "# 5개 샘플에 대한 확률 출력을 해보자! \n",
        "\n",
        "#round로 반올림 시키는데 decimals=4로 소수점 4번째 자리까지 표기 \n",
        "print(np.round(proba, decimals=4))\n",
        "\n",
        "#각 샘플에 대한 확률 \n",
        "#['Bream' 'Parkki' 'Perch' 'Pike' 'Roach' 'Smelt' 'Whitefish']\n",
        "#첫번째 행은 3번째 perch일 확률이 100퍼 \n",
        "#4번재 항목은 perch 확률이 67퍼 roach일 확률잉 33퍼 "
      ]
    },
    {
      "cell_type": "code",
      "execution_count": null,
      "metadata": {
        "colab": {
          "base_uri": "https://localhost:8080/"
        },
        "id": "Hk-ywsfKkf7t",
        "outputId": "93be2a77-2c4d-48b3-9c96-d1397d7669b9"
      },
      "outputs": [
        {
          "output_type": "stream",
          "name": "stdout",
          "text": [
            "[['Roach' 'Perch' 'Perch']]\n"
          ]
        }
      ],
      "source": [
        "distances, indexes = kn.kneighbors(test_scaled[3:4])\n",
        "# kneighbors() 함수 사용 인수는 무조건 2차원 배열 \n",
        "# 4번째 샘플 하나 선택해서 거리와 인덱스를 추출\n",
        "# 해당 인덱스 즉 주벼에 있는 인덱스 값들을 너헝서 머가 있는지 확인\n",
        "# 3개중 2개가 perch 니까 67퍼 1개가 roach니까 33퍼 스코어랑 맞음 \n",
        "print(train_target[indexes])"
      ]
    },
    {
      "cell_type": "markdown",
      "source": [
        "문제점!\n",
        "- 3개에서 확률을 구하는 거니까 확률이라고 말하기가 애매 다른방법이 필요!"
      ],
      "metadata": {
        "id": "afH4cAR6Du-6"
      }
    },
    {
      "cell_type": "markdown",
      "metadata": {
        "id": "Q9_wuI_0tEqL"
      },
      "source": [
        "## 로지스틱 회귀"
      ]
    },
    {
      "cell_type": "markdown",
      "source": [
        "- 회귀지만 분류 모델 \n",
        "- 선형 방적식을 학습 \n",
        "> z = a * (weight) + b * (legth ) + c* (diagnoal) + d * (height) + e * (weight) +f \n",
        "\n",
        "- a,b,c,d,e 는 가중치 혹은 계수 \n",
        "- z 는 어떤 값도 가능하지만 확률을 위해 0 ~ 1 사이 값이 되어야함 \n",
        "\n",
        "## 시그모이드 함수 = 로지스틱 함수 \n",
        "- z가 큰 음수일 때 0이 되고 z가 큰 양수일때 1이되도록 하는 함수 \n",
        "![image.png](data:image/png;base64,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)"
      ],
      "metadata": {
        "id": "uozzJIh5E_LZ"
      }
    },
    {
      "cell_type": "markdown",
      "source": [
        "시그모이드 식에서 여기선 e^-x 에서 x 는 z \n",
        "\n",
        "- z가 무한하게 큰 음수익 경우 -에 가까워지고 \n",
        "- z가 무한하게 큰 양수이면 1에 가까워짐 \n",
        "- z가 0이면 0.5 \n",
        "\n",
        "** 즉 z는 뭘 해도 0 - 1 사이를 벗어나지 않기에 확률 계산에 용이하다 ! "
      ],
      "metadata": {
        "id": "WSIsQn9tF_m9"
      }
    },
    {
      "cell_type": "code",
      "execution_count": null,
      "metadata": {
        "colab": {
          "base_uri": "https://localhost:8080/",
          "height": 279
        },
        "id": "8rdDSaZ5uji2",
        "outputId": "961ef24e-f65a-4683-fddc-2104aada81fc"
      },
      "outputs": [
        {
          "output_type": "display_data",
          "data": {
            "image/png": "[encoded data removed]",
            "text/plain": [
              "<Figure size 432x288 with 1 Axes>"
            ]
          },
          "metadata": {
            "needs_background": "light"
          }
        }
      ],
      "source": [
        "import numpy as np\n",
        "import matplotlib.pyplot as plt\n",
        "\n",
        "# X 축 범위는 -5에서 5 ... 간격은 0.1\n",
        "z = np.arange(-5, 5, 0.1)\n",
        "\n",
        "# Y축은 해당 시그모어식 X=Z\n",
        "# exp -> 밑이 자연상수 e인 지수함수(e^x)로 변환\n",
        "phi = 1 / (1 + np.exp(-z))\n",
        "\n",
        "plt.plot(z, phi)\n",
        "plt.xlabel('z')\n",
        "plt.ylabel('phi')\n",
        "plt.show()"
      ]
    },
    {
      "cell_type": "markdown",
      "metadata": {
        "id": "1J6LGKpUJbFE"
      },
      "source": [
        "### 로지스틱 회귀로 이진 분류 수행하기"
      ]
    },
    {
      "cell_type": "code",
      "source": [
        ""
      ],
      "metadata": {
        "id": "Hm74SXlvjXB5"
      },
      "execution_count": null,
      "outputs": []
    },
    {
      "cell_type": "code",
      "execution_count": null,
      "metadata": {
        "colab": {
          "base_uri": "https://localhost:8080/"
        },
        "id": "JeR5cA_fIe24",
        "outputId": "bacbed36-2b93-4832-f993-2d4971d5d6c4"
      },
      "outputs": [
        {
          "output_type": "stream",
          "name": "stdout",
          "text": [
            "['A' 'C']\n"
          ]
        }
      ],
      "source": [
        "# 불리언 인덱싱 \n",
        "# A와C만 골라짐\n",
        "char_arr = np.array(['A', 'B', 'C', 'D', 'E'])\n",
        "print(char_arr[[True, False, True, False, False]])"
      ]
    },
    {
      "cell_type": "code",
      "execution_count": null,
      "metadata": {
        "id": "Khxh-3t5-2Tk",
        "colab": {
          "base_uri": "https://localhost:8080/"
        },
        "outputId": "490bbcb0-2a3d-4319-eb51-2e72605251e3"
      },
      "outputs": [
        {
          "output_type": "stream",
          "name": "stdout",
          "text": [
            "[ True False  True False False False False  True False False False  True\n",
            " False False False  True  True False False  True False  True False False\n",
            " False  True False False  True False False False False  True False False\n",
            "  True  True False False False False False  True False False False False\n",
            " False  True False  True False False  True False False False  True False\n",
            " False False False False False  True False  True False False False False\n",
            " False False False False False  True False  True False False  True  True\n",
            " False False False  True False False False False False  True False False\n",
            " False  True False  True False False  True  True False False False False\n",
            " False False False False  True  True False False  True False False]\n"
          ]
        }
      ],
      "source": [
        "# 빙어와 방어에 관련된 행만 뽑아내기 \n",
        "bream_smelt_indexes = (train_target == 'Bream') | (train_target == 'Smelt')\n",
        "\n",
        "train_bream_smelt = train_scaled[bream_smelt_indexes]\n",
        "target_bream_smelt = train_target[bream_smelt_indexes]\n",
        "\n",
        "print(bream_smelt_indexes)"
      ]
    },
    {
      "cell_type": "code",
      "execution_count": null,
      "metadata": {
        "colab": {
          "base_uri": "https://localhost:8080/"
        },
        "id": "jEzP0aeXANra",
        "outputId": "bfaba9c3-db0e-4775-8916-bc15531ea6c2"
      },
      "outputs": [
        {
          "output_type": "execute_result",
          "data": {
            "text/plain": [
              "LogisticRegression()"
            ]
          },
          "metadata": {},
          "execution_count": 38
        }
      ],
      "source": [
        "from sklearn.linear_model import LogisticRegression\n",
        "\n",
        "lr = LogisticRegression()\n",
        "lr.fit(train_bream_smelt, target_bream_smelt)"
      ]
    },
    {
      "cell_type": "code",
      "execution_count": null,
      "metadata": {
        "colab": {
          "base_uri": "https://localhost:8080/"
        },
        "id": "VtEWtsB7EIgm",
        "outputId": "d40b164e-88e0-44cb-b029-40dc8e180287"
      },
      "outputs": [
        {
          "output_type": "stream",
          "name": "stdout",
          "text": [
            "['Bream' 'Smelt' 'Bream' 'Bream' 'Bream']\n"
          ]
        }
      ],
      "source": [
        "print(lr.predict(train_bream_smelt[:5]))"
      ]
    },
    {
      "cell_type": "code",
      "execution_count": null,
      "metadata": {
        "colab": {
          "base_uri": "https://localhost:8080/"
        },
        "id": "3H_qieV-_CTt",
        "outputId": "03e6d192-aba8-47b7-f6a2-25a8d997098d"
      },
      "outputs": [
        {
          "output_type": "stream",
          "name": "stdout",
          "text": [
            "[[0.99759855 0.00240145]\n",
            " [0.02735183 0.97264817]\n",
            " [0.99486072 0.00513928]\n",
            " [0.98584202 0.01415798]\n",
            " [0.99767269 0.00232731]]\n"
          ]
        }
      ],
      "source": [
        "print(lr.predict_proba(train_bream_smelt[:5]))\n",
        "\n",
        "# 첫번째 = 0에 대한 음성클래스 확률\n",
        "# 두번째 = 1에 대한 양성 클래스 확률 "
      ]
    },
    {
      "cell_type": "code",
      "execution_count": null,
      "metadata": {
        "colab": {
          "base_uri": "https://localhost:8080/"
        },
        "id": "Mm60bpr7EQKU",
        "outputId": "741d88a6-95fc-4194-c403-d1bd96d0e11f"
      },
      "outputs": [
        {
          "output_type": "stream",
          "name": "stdout",
          "text": [
            "['Bream' 'Smelt']\n"
          ]
        }
      ],
      "source": [
        "# 클래스 알아보기 \n",
        "# 알파벳순으로 bream이 음성 smelt가 양성 \n",
        "print(lr.classes_)"
      ]
    },
    {
      "cell_type": "code",
      "execution_count": null,
      "metadata": {
        "colab": {
          "base_uri": "https://localhost:8080/"
        },
        "id": "1mvoYhUVQmFY",
        "outputId": "88568837-0f35-4983-fef5-d2e08bea491c"
      },
      "outputs": [
        {
          "output_type": "stream",
          "name": "stdout",
          "text": [
            "[[-0.4037798  -0.57620209 -0.66280298 -1.01290277 -0.73168947]] [-2.16155132]\n"
          ]
        }
      ],
      "source": [
        "print(lr.coef_, lr.intercept_)\n",
        "# coef_ 는 변수들의 값 \n",
        "# interceot_ 는 y절편 \n",
        "\n",
        "# 0.0404*(무게)+ -0.576*(길이) + -0.663*(대각선?) + 1.0.13*(높이) -0.732*(가로) -2.161\n",
        "# 로지스틱 회귀 모델이 학습한 방적식\n",
        "\n",
        "# 선형회귀랑 아주 비슷함 "
      ]
    },
    {
      "cell_type": "code",
      "execution_count": null,
      "metadata": {
        "colab": {
          "base_uri": "https://localhost:8080/"
        },
        "id": "SxrRy9m8A5Hy",
        "outputId": "b853fb59-31f1-4e11-fd68-b3c1d0dc6213"
      },
      "outputs": [
        {
          "output_type": "stream",
          "name": "stdout",
          "text": [
            "[-6.02927744  3.57123907 -5.26568906 -4.24321775 -6.0607117 ]\n"
          ]
        }
      ],
      "source": [
        "# decision_Function() -> z 값 출력 가능 \n",
        "decisions = lr.decision_function(train_bream_smelt[:5])\n",
        "\n",
        "print(decisions)"
      ]
    },
    {
      "cell_type": "code",
      "execution_count": null,
      "metadata": {
        "colab": {
          "base_uri": "https://localhost:8080/"
        },
        "id": "SeuhSRuiA9yZ",
        "outputId": "4c7911d4-7f26-4737-bf98-f35590cfd45f"
      },
      "outputs": [
        {
          "output_type": "stream",
          "name": "stdout",
          "text": [
            "[0.00240145 0.97264817 0.00513928 0.01415798 0.00232731]\n"
          ]
        }
      ],
      "source": [
        "# z값을 시그모이드 함수에 넣으면 값을 얻기 가능 -> 0 ~ 1  사이의 값이 나옴 이게 확률\n",
        "# 둘 중 하나의 확률 \n",
        "# scipy 라이브러리의 expit 함수를 사용하자 exp보다 편리하고 안전함 \n",
        "from scipy.special import expit\n",
        "\n",
        "# z 값을 시그모이드에 넣으면 확률을 얻기 가능 \n",
        "# z값들을 넣어서 확률을 계싼 \n",
        "print(expit(decisions))"
      ]
    },
    {
      "cell_type": "code",
      "execution_count": null,
      "metadata": {
        "colab": {
          "base_uri": "https://localhost:8080/"
        },
        "outputId": "23b305d0-7bd1-41e1-d0e5-a5b1a4c8fcfb",
        "id": "VJCyZ4D2ml39"
      },
      "outputs": [
        {
          "output_type": "stream",
          "name": "stdout",
          "text": [
            "[[0.99759855 0.00240145]\n",
            " [0.02735183 0.97264817]\n",
            " [0.99486072 0.00513928]\n",
            " [0.98584202 0.01415798]\n",
            " [0.99767269 0.00232731]]\n"
          ]
        }
      ],
      "source": [
        "print(lr.predict_proba(train_bream_smelt[:5]))\n",
        "\n",
        "# 첫번째 = 0에 대한 음성클래스 확률\n",
        "# 두번째 = 1에 대한 양성 클래스 확률 "
      ]
    },
    {
      "cell_type": "markdown",
      "source": [
        "보면 양수의 확률에 관해서 같은 값을 출력함을 확인 가능 \n",
        "\n",
        "decision_function()메서드는 양성 클래스에 대한 z 값을 반환한다 \n",
        "\n",
        "이진분류일 때\n",
        "-predict_proba() 음성과 양성 다 확률 예측함  "
      ],
      "metadata": {
        "id": "9Xun_C6Smn3C"
      }
    },
    {
      "cell_type": "markdown",
      "source": [
        "coef_ -> 각 x값들 ?선형방정식 계쑤\n",
        "intercept_ -> y 절편 "
      ],
      "metadata": {
        "id": "XexvNFkxm6rN"
      }
    },
    {
      "cell_type": "markdown",
      "metadata": {
        "id": "6ee-s4l7EuVo"
      },
      "source": [
        "### 로지스틱 회귀로 다중 분류 수행하기"
      ]
    },
    {
      "cell_type": "markdown",
      "source": [
        "LogisticRegression 클래스\n",
        "- 기본적으로 반복적인 알고리즘 사용 \n",
        "- max_iter 반복횟수 지정 기본값 100\n",
        "- 릿지 회귀 같이 계수 제곱을 규제 LogisticRegression에서는 규제 제어를 c로함 c가 작을 수록 규제가 커지고 기본값은 1 여기선 20으로 규제가 완화됨 "
      ],
      "metadata": {
        "id": "zUcdbnkVpi-9"
      }
    },
    {
      "cell_type": "code",
      "execution_count": null,
      "metadata": {
        "colab": {
          "base_uri": "https://localhost:8080/"
        },
        "id": "7QugsbD2X8bf",
        "outputId": "f4ffc7f1-9a52-45c6-e67b-427fde3fc8b7"
      },
      "outputs": [
        {
          "output_type": "stream",
          "name": "stdout",
          "text": [
            "0.9327731092436975\n",
            "0.925\n"
          ]
        }
      ],
      "source": [
        "# 반복 1000번 c=20 규제 조금 완화 클수록 완화\n",
        "lr = LogisticRegression(C=20, max_iter=1000)\n",
        "#훈련 시킴 \n",
        "lr.fit(train_scaled, train_target)\n",
        "\n",
        "# 7개 항목 들어가 있는 거로 훈련 \n",
        "\n",
        "# 확률이 93퍼정도 \n",
        "print(lr.score(train_scaled, train_target))\n",
        "print(lr.score(test_scaled, test_target))"
      ]
    },
    {
      "cell_type": "code",
      "execution_count": null,
      "metadata": {
        "colab": {
          "base_uri": "https://localhost:8080/"
        },
        "id": "0taO0XnF9dha",
        "outputId": "a6d588c5-1993-4051-d674-e572b1b68ebe"
      },
      "outputs": [
        {
          "output_type": "stream",
          "name": "stdout",
          "text": [
            "['Perch' 'Smelt' 'Pike' 'Roach' 'Perch']\n"
          ]
        }
      ],
      "source": [
        "print(lr.predict(test_scaled[:5]))"
      ]
    },
    {
      "cell_type": "code",
      "execution_count": null,
      "metadata": {
        "colab": {
          "base_uri": "https://localhost:8080/"
        },
        "id": "pqZosYezZOi3",
        "outputId": "83de7519-8e57-4592-b3e1-b37b96ecbf3f"
      },
      "outputs": [
        {
          "output_type": "stream",
          "name": "stdout",
          "text": [
            "[[0.    0.014 0.841 0.    0.136 0.007 0.003]\n",
            " [0.    0.003 0.044 0.    0.007 0.946 0.   ]\n",
            " [0.    0.    0.034 0.935 0.015 0.016 0.   ]\n",
            " [0.011 0.034 0.306 0.007 0.567 0.    0.076]\n",
            " [0.    0.    0.904 0.002 0.089 0.002 0.001]]\n"
          ]
        }
      ],
      "source": [
        "proba = lr.predict_proba(test_scaled[:5])\n",
        "\n",
        "\n",
        "print(np.round(proba, decimals=3))\n",
        "#각 7개 값에 따른 확률들이 다 나와있다\\\n",
        "#['Bream' 'Parkki' 'Perch' 'Pike' 'Roach' 'Smelt' 'Whitefish']"
      ]
    },
    {
      "cell_type": "code",
      "execution_count": null,
      "metadata": {
        "colab": {
          "base_uri": "https://localhost:8080/"
        },
        "id": "CXASv4WU87UF",
        "outputId": "b28bf577-97d0-4d89-fb18-b96ae91a7fc3"
      },
      "outputs": [
        {
          "output_type": "stream",
          "name": "stdout",
          "text": [
            "['Bream' 'Parkki' 'Perch' 'Pike' 'Roach' 'Smelt' 'Whitefish']\n"
          ]
        }
      ],
      "source": [
        "print(lr.classes_)"
      ]
    },
    {
      "cell_type": "code",
      "execution_count": null,
      "metadata": {
        "colab": {
          "base_uri": "https://localhost:8080/"
        },
        "id": "1swPv6ZOZTjg",
        "outputId": "64e9e3e2-ac4d-4aec-9b05-c40c2ecc9052"
      },
      "outputs": [
        {
          "output_type": "stream",
          "name": "stdout",
          "text": [
            "(7, 5) (7,)\n"
          ]
        }
      ],
      "source": [
        "print(lr.coef_.shape, lr.intercept_.shape)\n",
        "# 행이 7개다 = z 가 7갸 계산한다\n",
        "# 다중분류는 클래스마다 z값을 하나씩 계산 \n",
        "# 가장 높은 z값 출력하는 클래스가 예측클래스가 됨 \n",
        "# 확률의 경우 이진분류라면 시그모이드로 z가 0 -1 로 변환하지만 다중 분류는 소프트맥스 함수 사용해서 \n",
        "# 7개 z값을 확률로 변환시킴 "
      ]
    },
    {
      "cell_type": "markdown",
      "source": [
        "소프트 맥스 함수 \n",
        "- 시그모이드 함수 :  방정식 출력값을 0 -1 사이로 압축\n",
        "- 소프트맥스 함수 : 여러 개의 선형 방적식 출력값을 0 -1 사이로 압축하고 전체 합이 1이 되도록 함 이를 위해 지수함수를 사용하기에 정규화된 지수함수라고 함 "
      ],
      "metadata": {
        "id": "Sf7BxLD51GaT"
      }
    },
    {
      "cell_type": "code",
      "execution_count": null,
      "metadata": {
        "colab": {
          "base_uri": "https://localhost:8080/"
        },
        "id": "s9iRz1iAd7Oe",
        "outputId": "abefc4d1-6cfc-422f-dd04-a3e90161c07f"
      },
      "outputs": [
        {
          "output_type": "stream",
          "name": "stdout",
          "text": [
            "[[ -6.5    1.03   5.16  -2.73   3.34   0.33  -0.63]\n",
            " [-10.86   1.93   4.77  -2.4    2.98   7.84  -4.26]\n",
            " [ -4.34  -6.23   3.17   6.49   2.36   2.42  -3.87]\n",
            " [ -0.68   0.45   2.65  -1.19   3.26  -5.75   1.26]\n",
            " [ -6.4   -1.99   5.82  -0.11   3.5   -0.11  -0.71]]\n"
          ]
        }
      ],
      "source": [
        "# decision_function() 메서드에서 z1-z7값을 구한다 \n",
        "# 물고기 7개 에대한 z 값들 \n",
        "# \n",
        "decision = lr.decision_function(test_scaled[:5])\n",
        "print(np.round(decision, decimals=2))"
      ]
    },
    {
      "cell_type": "code",
      "execution_count": null,
      "metadata": {
        "colab": {
          "base_uri": "https://localhost:8080/"
        },
        "id": "49CcsDHZeJma",
        "outputId": "aaa2604a-1ddb-48c9-8d1c-143bd3ef1ff7"
      },
      "outputs": [
        {
          "output_type": "stream",
          "name": "stdout",
          "text": [
            "[[0.    0.014 0.841 0.    0.136 0.007 0.003]\n",
            " [0.    0.003 0.044 0.    0.007 0.946 0.   ]\n",
            " [0.    0.    0.034 0.935 0.015 0.016 0.   ]\n",
            " [0.011 0.034 0.306 0.007 0.567 0.    0.076]\n",
            " [0.    0.    0.904 0.002 0.089 0.002 0.001]]\n"
          ]
        }
      ],
      "source": [
        "from scipy.special import softmax\n",
        "\n",
        "# 물고기 7개 에대한 확률 softmax 함수는 각 값들을 뭉그러뜨려 0 -1 로 만들어무 \n",
        "proba = softmax(decision, axis=1)\n",
        "print(np.round(proba, decimals=3))"
      ]
    }
  ],
  "metadata": {
    "colab": {
      "collapsed_sections": [],
      "name": "4-1.ipynb",
      "provenance": []
    },
    "kernelspec": {
      "display_name": "Python 3 (ipykernel)",
      "language": "python",
      "name": "python3"
    },
    "language_info": {
      "codemirror_mode": {
        "name": "ipython",
        "version": 3
      },
      "file_extension": ".py",
      "mimetype": "text/x-python",
      "name": "python",
      "nbconvert_exporter": "python",
      "pygments_lexer": "ipython3",
      "version": "3.7.3"
    }
  },
  "nbformat": 4,
  "nbformat_minor": 0
}