{
  "cells": [
    {
      "cell_type": "markdown",
      "metadata": {
        "id": "rOafwFRXG7fb"
      },
      "source": [
        "# 교차 검증과 그리드 서치"
      ]
    },
    {
      "cell_type": "markdown",
      "source": [
        "## 훈련세트로 모델 훈련하고 테스트 세트로 모델을 평가함 ... 테스트 세트에서 얻은 점수로 어느 정도 성능이 나오겠구나 예측을 한다! 근데... 테스트 세트를 자꾸 사용하다보면 점점 테스트 세트에 맞춰게 되어버림... \n",
        "\n",
        "### 가장 좋은 건 테스트 세트를 마지막 딱 한 번 확인하는 게 베스트 "
      ],
      "metadata": {
        "id": "I_hEWKENCW0P"
      }
    },
    {
      "cell_type": "markdown",
      "metadata": {
        "id": "dVNF7yZjyvoO"
      },
      "source": [
        "## 검증 세트"
      ]
    },
    {
      "cell_type": "markdown",
      "source": [
        "### 테스트 세트를 사용하지 않으면 모델이 과소인지 과대인지 확인이 불가능하니까 이를 측정하기 위해서 훈련세트에서 다시 부분을 나눠서 검증용을 만든다 ===> **검증세트**\n",
        "\n",
        "ex_ 훈련세트 60% 검증세트 20% 테스트세트 20%"
      ],
      "metadata": {
        "id": "XvJuvN0fCwph"
      }
    },
    {
      "cell_type": "code",
      "execution_count": 33,
      "metadata": {
        "id": "banlvMA6RfnM"
      },
      "outputs": [],
      "source": [
        "import pandas as pd\n",
        "\n",
        "wine = pd.read_csv('https://bit.ly/wine_csv_data')"
      ]
    },
    {
      "cell_type": "code",
      "execution_count": 34,
      "metadata": {
        "id": "abR6QA7qRoKl"
      },
      "outputs": [],
      "source": [
        "data = wine[['alcohol', 'sugar', 'pH']].to_numpy()\n",
        "target = wine['class'].to_numpy()"
      ]
    },
    {
      "cell_type": "code",
      "execution_count": 35,
      "metadata": {
        "id": "auLnVXyMRoeb"
      },
      "outputs": [],
      "source": [
        "from sklearn.model_selection import train_test_split\n",
        "\n",
        "train_input, test_input, train_target, test_target = train_test_split(\n",
        "    data, target, test_size=0.2, random_state=42)"
      ]
    },
    {
      "cell_type": "code",
      "execution_count": 36,
      "metadata": {
        "id": "E-yV4cCXRqNK"
      },
      "outputs": [],
      "source": [
        "# 위에서 나눈 train_input / target을 한 번더 처리해서 20퍼 나눠줌 ... \n",
        "sub_input, val_input, sub_target, val_target = train_test_split(\n",
        "    train_input, train_target, test_size=0.2, random_state=42)"
      ]
    },
    {
      "cell_type": "code",
      "execution_count": 37,
      "metadata": {
        "colab": {
          "base_uri": "https://localhost:8080/"
        },
        "id": "k29hKbw4R7Ki",
        "outputId": "93793106-040f-44e2-b432-74a9b92a36bd"
      },
      "outputs": [
        {
          "output_type": "stream",
          "name": "stdout",
          "text": [
            "(4157, 3) (1040, 3)\n"
          ]
        }
      ],
      "source": [
        "print(sub_input.shape, val_input.shape)"
      ]
    },
    {
      "cell_type": "code",
      "execution_count": 38,
      "metadata": {
        "colab": {
          "base_uri": "https://localhost:8080/"
        },
        "id": "4VQz-UZ2SeLq",
        "outputId": "47650179-671e-4fbc-fdc5-31f03262c6c4"
      },
      "outputs": [
        {
          "output_type": "stream",
          "name": "stdout",
          "text": [
            "0.9971133028626413\n",
            "0.864423076923077\n"
          ]
        }
      ],
      "source": [
        "from sklearn.tree import DecisionTreeClassifier\n",
        "\n",
        "dt = DecisionTreeClassifier(random_state=42)\n",
        "dt.fit(sub_input, sub_target)\n",
        "\n",
        "# 훈련용 sub 검증용 val \n",
        "print(dt.score(sub_input, sub_target))\n",
        "print(dt.score(val_input, val_target))"
      ]
    },
    {
      "cell_type": "markdown",
      "metadata": {
        "id": "Z4gRXnK6y2Pt"
      },
      "source": [
        "## 교차 검증"
      ]
    },
    {
      "cell_type": "markdown",
      "source": [
        "검증을 한 샘플로 하면 이것도 좀 그러니까 훈련세트에 어느 부분을 랜덤하게 검증으로 쓰는 느낌인가  이거 여러번 반복해서 평균 내는 느낌인듯 \n",
        "\n",
        "> 훈련세트를 3부분으로 나눠서 교차 검증 수행하는 것을 3-폴드 교차검증 \n",
        "> k 폴드 교차 검증 이라고 한다 \n",
        "- 보통 5나 10폴드를 많이 사용함 "
      ],
      "metadata": {
        "id": "rs7F1IbnDzVW"
      }
    },
    {
      "cell_type": "code",
      "execution_count": 39,
      "metadata": {
        "colab": {
          "base_uri": "https://localhost:8080/"
        },
        "id": "_J3LId-vSmNH",
        "outputId": "8007c2a3-0d19-4f33-a2b2-1e75b26f4f48"
      },
      "outputs": [
        {
          "output_type": "stream",
          "name": "stdout",
          "text": [
            "{'fit_time': array([0.00790548, 0.00667334, 0.00674129, 0.00684094, 0.0064435 ]), 'score_time': array([0.00068259, 0.0006237 , 0.00057673, 0.00061011, 0.00061131]), 'test_score': array([0.86923077, 0.84615385, 0.87680462, 0.84889317, 0.83541867])}\n"
          ]
        }
      ],
      "source": [
        "from sklearn.model_selection import cross_validate\n",
        "\n",
        "# cross_validate () 교차 검증 함수 \n",
        "# 평가할 모델 객체 / 훈련용세트 인풋 / 훈련용 타겟\n",
        "\n",
        "scores = cross_validate(dt, train_input, train_target)\n",
        "print(scores)"
      ]
    },
    {
      "cell_type": "code",
      "execution_count": 40,
      "metadata": {
        "colab": {
          "base_uri": "https://localhost:8080/"
        },
        "id": "Yp3aagOoTHsO",
        "outputId": "8ad845e4-1c24-4311-d32d-f9b828103fec"
      },
      "outputs": [
        {
          "output_type": "stream",
          "name": "stdout",
          "text": [
            "0.855300214703487\n"
          ]
        }
      ],
      "source": [
        "import numpy as np\n",
        "# print(Scores) 보면 test_score가 있음 \n",
        "# 보통 cross_validate는 5번 수행함 \n",
        "# test_socre는 5개 평균 점수 \n",
        "print(np.mean(scores['test_score']))"
      ]
    },
    {
      "cell_type": "markdown",
      "source": [
        "cross_validate()는 섞어서 나누지 않음 \n",
        "아까 위에서 train_test_split()로 셔플했으니까 상관은 없지만 저 함수는 셔플 안 되니까 저것만 쓸 때는 따로 옵션으로 섞어줘야함 "
      ],
      "metadata": {
        "id": "tq-UsWGzGgWS"
      }
    },
    {
      "cell_type": "code",
      "execution_count": 41,
      "metadata": {
        "colab": {
          "base_uri": "https://localhost:8080/"
        },
        "id": "0tQyaG0576Vn",
        "outputId": "7451c4a5-99da-4c52-e626-386933b344e4"
      },
      "outputs": [
        {
          "output_type": "stream",
          "name": "stdout",
          "text": [
            "0.855300214703487\n"
          ]
        }
      ],
      "source": [
        "from sklearn.model_selection import StratifiedKFold\n",
        "\n",
        "# cv=StratifiedKFold- > kfold 사용해서 섞기 \n",
        "scores = cross_validate(dt, train_input, train_target, cv=StratifiedKFold())\n",
        "print(np.mean(scores['test_score']))"
      ]
    },
    {
      "cell_type": "code",
      "execution_count": 42,
      "metadata": {
        "colab": {
          "base_uri": "https://localhost:8080/"
        },
        "id": "1BmP_OTT_agM",
        "outputId": "b6035af7-0f25-47c3-ade1-8bd26abf3ca1"
      },
      "outputs": [
        {
          "output_type": "stream",
          "name": "stdout",
          "text": [
            "0.8574181117533719\n"
          ]
        }
      ],
      "source": [
        "splitter = StratifiedKFold(n_splits=10, shuffle=True, random_state=42)\n",
        "# 10폴듣 \n",
        "\n",
        "scores = cross_validate(dt, train_input, train_target, cv=splitter)\n",
        "print(np.mean(scores['test_score']))"
      ]
    },
    {
      "cell_type": "markdown",
      "metadata": {
        "id": "Q21W8RsqDsDV"
      },
      "source": [
        "## 하이퍼파라미터 튜닝"
      ]
    },
    {
      "cell_type": "markdown",
      "source": [
        "그리드 서치 \n",
        "- 적절한 하이퍼 파라미터를 찾아주는 도구 "
      ],
      "metadata": {
        "id": "eQR8TP8OND1t"
      }
    },
    {
      "cell_type": "code",
      "execution_count": 43,
      "metadata": {
        "id": "S8pqss8onjR5"
      },
      "outputs": [],
      "source": [
        "from sklearn.model_selection import GridSearchCV\n",
        "\n",
        "# 탐색할 매개변수와 탐색할 값으 리스트를 딕셔너리 형태로 만듦 \n",
        "params = {'min_impurity_decrease': [0.0001, 0.0002, 0.0003, 0.0004, 0.0005]}"
      ]
    },
    {
      "cell_type": "code",
      "execution_count": 44,
      "metadata": {
        "id": "79MymJqxTu0P"
      },
      "outputs": [],
      "source": [
        "gs = GridSearchCV(DecisionTreeClassifier(random_state=42), params, n_jobs=-1)\n",
        "# min_impurity_Dcrease 값 총 5개 그리고 k-fold 기본 5개니까 5 * 5 = 25 총 25번 실행 \n",
        "# n_jobs -> 병렬 실행에 필요한 cpu 코어 수지정  기본값은 1 // -1일 때 모든 코어를 사용한다 "
      ]
    },
    {
      "cell_type": "code",
      "execution_count": 45,
      "metadata": {
        "colab": {
          "base_uri": "https://localhost:8080/"
        },
        "id": "tKAlTabkU-Lz",
        "outputId": "16334edd-e68b-4ded-f6c3-3c67decf65b8"
      },
      "outputs": [
        {
          "output_type": "execute_result",
          "data": {
            "text/plain": [
              "GridSearchCV(estimator=DecisionTreeClassifier(random_state=42), n_jobs=-1,\n",
              "             param_grid={'min_impurity_decrease': [0.0001, 0.0002, 0.0003,\n",
              "                                                   0.0004, 0.0005]})"
            ]
          },
          "metadata": {},
          "execution_count": 45
        }
      ],
      "source": [
        "gs.fit(train_input, train_target)\n",
        "# 해당 매개변수를 토대로 5번 실행 "
      ]
    },
    {
      "cell_type": "markdown",
      "source": [
        "교차 검증에서 최적의 파라미터를 찾으면 전체 훈련세트 모델을 다시 만들어야하지만 그리드 서치는 훈련이 끝나면 그 모델 중 검증 점수가 가장 높은 모델의 매개벼수 조합으로 전체 훈련세트에서 자동으로 다시 모델을 훈련함 이 gs 객체는 best_estimator_ 속성에 저앚ㅇ됨 "
      ],
      "metadata": {
        "id": "Jp1Ev9KCOgTx"
      }
    },
    {
      "cell_type": "code",
      "execution_count": 46,
      "metadata": {
        "colab": {
          "base_uri": "https://localhost:8080/"
        },
        "id": "q6iX3vH-VeEb",
        "outputId": "a473632e-e3cb-43ba-b6e1-99a04d80ec98"
      },
      "outputs": [
        {
          "output_type": "stream",
          "name": "stdout",
          "text": [
            "0.9615162593804117\n"
          ]
        }
      ],
      "source": [
        "dt = gs.best_estimator_\n",
        "#가장 점수가 좋은 모델 \n",
        "print(dt.score(train_input, train_target))"
      ]
    },
    {
      "cell_type": "code",
      "execution_count": 47,
      "metadata": {
        "colab": {
          "base_uri": "https://localhost:8080/"
        },
        "id": "lIzod3BwVHq-",
        "outputId": "d91a4252-4992-4c58-8604-5b7958afcd66"
      },
      "outputs": [
        {
          "output_type": "stream",
          "name": "stdout",
          "text": [
            "{'min_impurity_decrease': 0.0001}\n"
          ]
        }
      ],
      "source": [
        "print(gs.best_params_)\n",
        "# 가장 좋은 파라미터 "
      ]
    },
    {
      "cell_type": "code",
      "execution_count": 48,
      "metadata": {
        "colab": {
          "base_uri": "https://localhost:8080/"
        },
        "id": "0xfQswiui4Tr",
        "outputId": "83ff05e3-da03-4cc8-8c54-2dde71cf24a8"
      },
      "outputs": [
        {
          "output_type": "stream",
          "name": "stdout",
          "text": [
            "[0.86819297 0.86453617 0.86492226 0.86780891 0.86761605]\n"
          ]
        }
      ],
      "source": [
        "print(gs.cv_results_['mean_test_score'])"
      ]
    },
    {
      "cell_type": "code",
      "execution_count": 49,
      "metadata": {
        "colab": {
          "base_uri": "https://localhost:8080/"
        },
        "id": "Rwg2aSyEVO17",
        "outputId": "f85baf7b-49ab-42b3-8ea4-4a8564703b62"
      },
      "outputs": [
        {
          "output_type": "stream",
          "name": "stdout",
          "text": [
            "{'min_impurity_decrease': 0.0001}\n"
          ]
        }
      ],
      "source": [
        "# argmax() 해당 리스트 중 가장 ㅡㅋㄴ 값의 인덱스 추출 \n",
        "best_index = np.argmax(gs.cv_results_['mean_test_score'])\n",
        "print(gs.cv_results_['params'][best_index])"
      ]
    },
    {
      "cell_type": "code",
      "execution_count": 50,
      "metadata": {
        "id": "8jHxZ7XmVU11"
      },
      "outputs": [],
      "source": [
        "params = {\n",
        "          # 0,0001에서 0.001까지 되도록 0.0001씩 더하기 총 9번 \n",
        "          'min_impurity_decrease': np.arange(0.0001, 0.001, 0.0001),\n",
        "          # 5에서 20까지 1씩 15번 더하기\n",
        "          'max_depth': range(5, 20, 1),\n",
        "          # 2에서 100까지 10씩 10번 더하기\n",
        "          'min_samples_split': range(2, 100, 10)\n",
        "          }\n",
        "\n",
        "          # 9 * 15 * 10 = 6750 개의 모델을 만들고 검사 "
      ]
    },
    {
      "cell_type": "code",
      "execution_count": 51,
      "metadata": {
        "colab": {
          "base_uri": "https://localhost:8080/"
        },
        "id": "KnP3GA6MVsVH",
        "outputId": "54e85321-7419-4d9f-a4c7-6186aa98d98e"
      },
      "outputs": [
        {
          "output_type": "execute_result",
          "data": {
            "text/plain": [
              "GridSearchCV(estimator=DecisionTreeClassifier(random_state=42), n_jobs=-1,\n",
              "             param_grid={'max_depth': range(5, 20),\n",
              "                         'min_impurity_decrease': array([0.0001, 0.0002, 0.0003, 0.0004, 0.0005, 0.0006, 0.0007, 0.0008,\n",
              "       0.0009]),\n",
              "                         'min_samples_split': range(2, 100, 10)})"
            ]
          },
          "metadata": {},
          "execution_count": 51
        }
      ],
      "source": [
        "gs = GridSearchCV(DecisionTreeClassifier(random_state=42), params, n_jobs=-1)\n",
        "gs.fit(train_input, train_target)"
      ]
    },
    {
      "cell_type": "code",
      "execution_count": 52,
      "metadata": {
        "colab": {
          "base_uri": "https://localhost:8080/"
        },
        "id": "qi9-O_VGV0Ho",
        "outputId": "fb228a62-7225-420d-fd0f-7a9d7aa24988"
      },
      "outputs": [
        {
          "output_type": "stream",
          "name": "stdout",
          "text": [
            "{'max_depth': 14, 'min_impurity_decrease': 0.0004, 'min_samples_split': 12}\n"
          ]
        }
      ],
      "source": [
        "print(gs.best_params_)"
      ]
    },
    {
      "cell_type": "code",
      "execution_count": 53,
      "metadata": {
        "colab": {
          "base_uri": "https://localhost:8080/"
        },
        "id": "ZnJjLATAV2Sq",
        "outputId": "1d2608fe-1707-4826-e424-4b6a1dba6553"
      },
      "outputs": [
        {
          "output_type": "stream",
          "name": "stdout",
          "text": [
            "0.8683865773302731\n"
          ]
        }
      ],
      "source": [
        "print(np.max(gs.cv_results_['mean_test_score']))"
      ]
    },
    {
      "cell_type": "markdown",
      "source": [
        "증가폭을 1혹은 10 0.0.001 등으로 설정을 했는데 더 좁거나 넓은 간격으로 할 수 있지 않을까 = 랜덤서치 "
      ],
      "metadata": {
        "id": "lv0nnD9OQGF6"
      }
    },
    {
      "cell_type": "markdown",
      "metadata": {
        "id": "d0k9DQTNlaD6"
      },
      "source": [
        "### 랜덤 서치\n",
        "\n",
        "매개변수 값이 수치일 때 값의 범위나 간격 미리 정하기 힘들다 ... 또 매개변수 조ㄱㄴ이 많으면 그리드 서치 수행 시간이 오래걸림\n",
        "\n",
        "매개변수 값 목록이 아니라 샘플링 할 수 있는 확률 분표 객체를 전달 ! \n",
        "\n",
        "\n",
        "### 싸이파이 \n",
        "- 적분 ,선형대수, 학률 등 포함한 수치 계산 전용 라이브러리 \n",
        "- randint - 정수값을 범위에서 고르게 뽑음\n",
        "- uniform - 실수값을 범위내에서 고르게 뽑음 \n"
      ]
    },
    {
      "cell_type": "markdown",
      "source": [
        ""
      ],
      "metadata": {
        "id": "h7kFXzh8Dlcq"
      }
    },
    {
      "cell_type": "code",
      "source": [
        ""
      ],
      "metadata": {
        "id": "vqUk07ieCggP"
      },
      "execution_count": null,
      "outputs": []
    },
    {
      "cell_type": "code",
      "execution_count": 54,
      "metadata": {
        "id": "_T9KTEk1GBcY"
      },
      "outputs": [],
      "source": [
        "from scipy.stats import uniform, randint"
      ]
    },
    {
      "cell_type": "code",
      "execution_count": 66,
      "metadata": {
        "colab": {
          "base_uri": "https://localhost:8080/"
        },
        "id": "fd0UJpCGGDhz",
        "outputId": "b27c5b15-dcdb-43b6-c155-89ee8038d946"
      },
      "outputs": [
        {
          "output_type": "execute_result",
          "data": {
            "text/plain": [
              "array([4, 9, 5, 9, 6, 4, 4, 3, 8, 5])"
            ]
          },
          "metadata": {},
          "execution_count": 66
        }
      ],
      "source": [
        "rgen = randint(0, 10)\n",
        "rgen.rvs(10)"
      ]
    },
    {
      "cell_type": "code",
      "execution_count": 70,
      "metadata": {
        "colab": {
          "base_uri": "https://localhost:8080/"
        },
        "id": "ch3zTUohIJR6",
        "outputId": "71bfe0ad-308e-402a-bc27-109d0e1cfe28"
      },
      "outputs": [
        {
          "output_type": "execute_result",
          "data": {
            "text/plain": [
              "(array([0, 1, 2, 3, 4, 5, 6, 7, 8, 9]),\n",
              " array([ 97,  90,  92,  98, 106, 100,  97,  95, 107, 118]))"
            ]
          },
          "metadata": {},
          "execution_count": 70
        }
      ],
      "source": [
        "np.unique(rgen.rvs(1000), return_counts=True)"
      ]
    },
    {
      "cell_type": "code",
      "execution_count": 57,
      "metadata": {
        "colab": {
          "base_uri": "https://localhost:8080/"
        },
        "id": "bGhshTn0IjkI",
        "outputId": "65b154a1-4783-487b-e6dd-df8affcf5706"
      },
      "outputs": [
        {
          "output_type": "execute_result",
          "data": {
            "text/plain": [
              "array([0.91045689, 0.29790793, 0.94664968, 0.03428028, 0.70859791,\n",
              "       0.98552055, 0.968208  , 0.15893275, 0.78871276, 0.01713448])"
            ]
          },
          "metadata": {},
          "execution_count": 57
        }
      ],
      "source": [
        "ugen = uniform(0, 1)\n",
        "ugen.rvs(10)"
      ]
    },
    {
      "cell_type": "code",
      "execution_count": 71,
      "metadata": {
        "id": "irDX9e6WYTIH"
      },
      "outputs": [],
      "source": [
        "params = {'min_impurity_decrease': uniform(0.0001, 0.001),\n",
        "          # 0.0001에서 0.001 까지의 범위 실수값\n",
        "\n",
        "          'max_depth': randint(20, 50),\n",
        "          # 20 - 50 범위 정수 \n",
        "          \n",
        "          'min_samples_split': randint(2, 25),\n",
        "          'min_samples_leaf': randint(1, 25),\n",
        "          }"
      ]
    },
    {
      "cell_type": "code",
      "execution_count": 72,
      "metadata": {
        "colab": {
          "base_uri": "https://localhost:8080/"
        },
        "id": "Wc4OIingWQCK",
        "outputId": "0542df2f-5c38-4984-d615-b7985043d15e"
      },
      "outputs": [
        {
          "output_type": "execute_result",
          "data": {
            "text/plain": [
              "RandomizedSearchCV(estimator=DecisionTreeClassifier(random_state=42),\n",
              "                   n_iter=100, n_jobs=-1,\n",
              "                   param_distributions={'max_depth': <scipy.stats._distn_infrastructure.rv_frozen object at 0x7f41639d0d10>,\n",
              "                                        'min_impurity_decrease': <scipy.stats._distn_infrastructure.rv_frozen object at 0x7f4163deea50>,\n",
              "                                        'min_samples_leaf': <scipy.stats._distn_infrastructure.rv_frozen object at 0x7f41971b3210>,\n",
              "                                        'min_samples_split': <scipy.stats._distn_infrastructure.rv_frozen object at 0x7f41639d0250>},\n",
              "                   random_state=42)"
            ]
          },
          "metadata": {},
          "execution_count": 72
        }
      ],
      "source": [
        "from sklearn.model_selection import RandomizedSearchCV\n",
        "\n",
        "gs = RandomizedSearchCV(DecisionTreeClassifier(random_state=42), params, \n",
        "                        n_iter=100, n_jobs=-1, random_state=42)\n",
        "gs.fit(train_input, train_target)"
      ]
    },
    {
      "cell_type": "code",
      "execution_count": 73,
      "metadata": {
        "colab": {
          "base_uri": "https://localhost:8080/"
        },
        "id": "p7IbsGH3ZSv-",
        "outputId": "ef748f2a-21ae-4a80-b1de-6be1fa95810d"
      },
      "outputs": [
        {
          "output_type": "stream",
          "name": "stdout",
          "text": [
            "{'max_depth': 39, 'min_impurity_decrease': 0.00034102546602601173, 'min_samples_leaf': 7, 'min_samples_split': 13}\n"
          ]
        }
      ],
      "source": [
        "print(gs.best_params_)"
      ]
    },
    {
      "cell_type": "code",
      "execution_count": 74,
      "metadata": {
        "colab": {
          "base_uri": "https://localhost:8080/"
        },
        "id": "dYI3HwMQbtnr",
        "outputId": "310b2fd2-0085-4c5c-cbe8-3d12009db149"
      },
      "outputs": [
        {
          "output_type": "stream",
          "name": "stdout",
          "text": [
            "0.8695428296438884\n"
          ]
        }
      ],
      "source": [
        "print(np.max(gs.cv_results_['mean_test_score']))"
      ]
    },
    {
      "cell_type": "code",
      "execution_count": 62,
      "metadata": {
        "colab": {
          "base_uri": "https://localhost:8080/"
        },
        "id": "3QV7yRpidByf",
        "outputId": "47730a7a-06a0-4f08-fe1b-d8af62dfdcf8"
      },
      "outputs": [
        {
          "output_type": "stream",
          "name": "stdout",
          "text": [
            "0.86\n"
          ]
        }
      ],
      "source": [
        "dt = gs.best_estimator_\n",
        "\n",
        "print(dt.score(test_input, test_target))"
      ]
    },
    {
      "cell_type": "markdown",
      "metadata": {
        "id": "cA42IsMdhgE7"
      },
      "source": [
        "## 확인문제"
      ]
    },
    {
      "cell_type": "code",
      "execution_count": 63,
      "metadata": {
        "colab": {
          "base_uri": "https://localhost:8080/"
        },
        "id": "8qxg36iThiUm",
        "outputId": "960883b4-71f8-4c09-8bef-0d5bda93aa90"
      },
      "outputs": [
        {
          "output_type": "execute_result",
          "data": {
            "text/plain": [
              "RandomizedSearchCV(estimator=DecisionTreeClassifier(random_state=42,\n",
              "                                                    splitter='random'),\n",
              "                   n_iter=100, n_jobs=-1,\n",
              "                   param_distributions={'max_depth': <scipy.stats._distn_infrastructure.rv_frozen object at 0x7f4163c64350>,\n",
              "                                        'min_impurity_decrease': <scipy.stats._distn_infrastructure.rv_frozen object at 0x7f4163c64a90>,\n",
              "                                        'min_samples_leaf': <scipy.stats._distn_infrastructure.rv_frozen object at 0x7f4163e41e10>,\n",
              "                                        'min_samples_split': <scipy.stats._distn_infrastructure.rv_frozen object at 0x7f4163c64a50>},\n",
              "                   random_state=42)"
            ]
          },
          "metadata": {},
          "execution_count": 63
        }
      ],
      "source": [
        "gs = RandomizedSearchCV(DecisionTreeClassifier(splitter='random', random_state=42), params, \n",
        "                        n_iter=100, n_jobs=-1, random_state=42)\n",
        "gs.fit(train_input, train_target)"
      ]
    },
    {
      "cell_type": "code",
      "execution_count": 64,
      "metadata": {
        "colab": {
          "base_uri": "https://localhost:8080/"
        },
        "id": "CMZ4UE8ihqwg",
        "outputId": "19241b27-b759-40ef-80d7-632ae0c8c329"
      },
      "outputs": [
        {
          "output_type": "stream",
          "name": "stdout",
          "text": [
            "{'max_depth': 43, 'min_impurity_decrease': 0.00011407982271508446, 'min_samples_leaf': 19, 'min_samples_split': 18}\n",
            "0.8458726956392981\n",
            "0.786923076923077\n"
          ]
        }
      ],
      "source": [
        "print(gs.best_params_)\n",
        "print(np.max(gs.cv_results_['mean_test_score']))\n",
        "\n",
        "dt = gs.best_estimator_\n",
        "print(dt.score(test_input, test_target))"
      ]
    },
    {
      "cell_type": "markdown",
      "source": [
        "# 정리 하기 \n",
        "\n",
        "1. 검증세트\n",
        "- 하이퍼 파라미터 튜닝을 위해 모델 평가시 테스트 세트 쓰지않기 위해 트레니인셋에서 똑 뗀 것 보통 60 20 20 비율 \n",
        "\n",
        "2. 교차 검증 \n",
        "- 훈련세트를 여러 폴드로 나누고 하나를 검증 나머지를 훈련으로 돌림 \n",
        "- 교차검증은 이 폴드를 다 검증하고 평균을 냄 \n",
        "\n",
        "3. 그리드 서치 \n",
        "- 하이퍼 파라미터 탐색을 자동화 해줌 \n",
        "- 매개변수 리스트를 만들고 가장 좋은 검증 점수 조합을 선택 \n",
        "- 가장 좋은 조합으로 최종 모델을 훈련시킴! \n",
        "\n",
        "4. 랜덤서치 \n",
        "- 연속된 매개 변수 값 탐색시 사용 \n",
        "- 직접 나열이 아니라 값을 샘플링 하도록 확률분포객체 전달 \n",
        "- 랜덤이라 지정 x \n",
        "\n",
        "# 패키지 & 함수 \n",
        "\n",
        "1. cross_validate() \n",
        "- 교차 검증응ㄹ 수행 \n",
        "- cv 매개 변수에 교차 검증 폴드 수나 스플리터 객체 지정 가능 기본값 5\n",
        "- n_jobs : 사용할 cpu 코어 수 지정 기본 1 / -1 : 가능한 대로 \n",
        "\n",
        "2. GridSearchCV\n",
        "- 교차 검증으로 하이퍼 파라미터 탐색 수행 \n",
        "- 가장 좋은 모델 찾고 훈련세트 전체를 가장 좋은 모델로 훈련시킴 \n",
        "\n",
        "3. RandomsizedSearchCV\n",
        "- 교차 검증으로 랜덤한 하이퍼 파라미터 탐색 수행 "
      ],
      "metadata": {
        "id": "zXZ0MbMBE067"
      }
    }
  ],
  "metadata": {
    "colab": {
      "collapsed_sections": [],
      "name": "5-2.ipynb",
      "provenance": []
    },
    "kernelspec": {
      "display_name": "Python 3 (ipykernel)",
      "language": "python",
      "name": "python3"
    },
    "language_info": {
      "codemirror_mode": {
        "name": "ipython",
        "version": 3
      },
      "file_extension": ".py",
      "mimetype": "text/x-python",
      "name": "python",
      "nbconvert_exporter": "python",
      "pygments_lexer": "ipython3",
      "version": "3.7.3"
    }
  },
  "nbformat": 4,
  "nbformat_minor": 0
}