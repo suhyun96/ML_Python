{
  "nbformat": 4,
  "nbformat_minor": 0,
  "metadata": {
    "colab": {
      "name": "tensor1.ipynb",
      "provenance": [],
      "collapsed_sections": [],
      "authorship_tag": "ABX9TyOsQeELmUdNkGH3QjTxCuXc"
    },
    "kernelspec": {
      "name": "python3",
      "display_name": "Python 3"
    },
    "language_info": {
      "name": "python"
    }
  },
  "cells": [
    {
      "cell_type": "code",
      "execution_count": null,
      "metadata": {
        "id": "Fcw7MJELmCox"
      },
      "outputs": [],
      "source": [
        "import tensorflow as tf\n"
      ]
    },
    {
      "cell_type": "code",
      "source": [
        "a=tf.constant(3)\n",
        "print(a)\n",
        "# 텐서라는 기본 자료형 . 파이썬의 숫자 자료형느낌 \n",
        "# 그냥 숫자 혹은 리스트 담는곳 끝! \n",
        "\n",
        "b=tf.constant([3,4,5])\n",
        "print(b)"
      ],
      "metadata": {
        "colab": {
          "base_uri": "https://localhost:8080/"
        },
        "id": "qki_vevAmItG",
        "outputId": "1661c774-a700-4d8e-95a0-09734cb41718"
      },
      "execution_count": null,
      "outputs": [
        {
          "output_type": "stream",
          "name": "stdout",
          "text": [
            "tf.Tensor(3, shape=(), dtype=int32)\n",
            "tf.Tensor([3 4 5], shape=(3,), dtype=int32)\n"
          ]
        }
      ]
    },
    {
      "cell_type": "markdown",
      "source": [
        "텐서가 필요한 이유 \n",
        "\n",
        "x1*w1+x2*w2 .... 이렇게 여러번 쓰는 건 매우 번거롭다 -> 그래서 행렬을 사용한다 \n",
        "\n",
        "숫자 여러개를 한꺼번에 계산하기가 좋다!!\n",
        "\n",
        "- 행렬로 인풋 및 w값 저장가능 \n",
        "- node값 계산이 쉬워진다 "
      ],
      "metadata": {
        "id": "RshrT54AmiHj"
      }
    },
    {
      "cell_type": "code",
      "source": [
        "텐서 = tf.constant([3,4,5])\n",
        "텐서2 = tf.constant([6,7,8])\n",
        "print(텐서 + 텐서2)\n",
        "# 숫자들을 한꺼번게 계산하기 위해서 tensor를 사용한다 \n",
        "# tensor는 리스트 형태로 숫자를 집어넣어도 되고 행렬같은 형태로도 가능 \n",
        "\n"
      ],
      "metadata": {
        "colab": {
          "base_uri": "https://localhost:8080/"
        },
        "id": "vwLetnMNmL-z",
        "outputId": "fbcb3333-6211-4f07-c192-6b61175938d1"
      },
      "execution_count": null,
      "outputs": [
        {
          "output_type": "stream",
          "name": "stdout",
          "text": [
            "tf.Tensor([ 9 11 13], shape=(3,), dtype=int32)\n"
          ]
        }
      ]
    },
    {
      "cell_type": "code",
      "source": [
        "ten3 = tf.constant([ [1,2],[3,4] ])\n",
        "print(ten3)\n",
        "# 행렬같은 형태 2차원행렬을 사용해서 ! "
      ],
      "metadata": {
        "colab": {
          "base_uri": "https://localhost:8080/"
        },
        "id": "uQ3_fcTipnii",
        "outputId": "4515cf82-0aad-424d-f690-b8abebdd9881"
      },
      "execution_count": null,
      "outputs": [
        {
          "output_type": "stream",
          "name": "stdout",
          "text": [
            "tf.Tensor(\n",
            "[[1 2]\n",
            " [3 4]], shape=(2, 2), dtype=int32)\n"
          ]
        }
      ]
    },
    {
      "cell_type": "code",
      "source": [
        "print(tf.add(텐서,텐서2))\n",
        "\n"
      ],
      "metadata": {
        "colab": {
          "base_uri": "https://localhost:8080/"
        },
        "id": "AO0qaDDAqPeN",
        "outputId": "7c074445-da62-43d2-9d01-692ce6efcf8d"
      },
      "execution_count": null,
      "outputs": [
        {
          "output_type": "stream",
          "name": "stdout",
          "text": [
            "tf.Tensor([ 9 11 13], shape=(3,), dtype=int32)\n"
          ]
        }
      ]
    },
    {
      "cell_type": "markdown",
      "source": [
        "\n",
        "tf.add()\n",
        "tf.substract()\n",
        "tf.divide()\n",
        "tf.multiply()\n",
        "//tf.matmul() 행렬의 곱셈"
      ],
      "metadata": {
        "id": "MGalXEhkrb58"
      }
    },
    {
      "cell_type": "code",
      "source": [
        "ten4 = tf.zeros([2,2])\n",
        "print(ten4)\n",
        "# 0으로 채움 \n",
        "# shape-> 모양 \n",
        "# 뒤에서부터 해석하면 됨 2개짜리 데이터가 2개 있음 "
      ],
      "metadata": {
        "colab": {
          "base_uri": "https://localhost:8080/"
        },
        "id": "acE6f7NGrbZ4",
        "outputId": "c1208712-59d2-4f9f-9513-7b65868b87b1"
      },
      "execution_count": null,
      "outputs": [
        {
          "output_type": "stream",
          "name": "stdout",
          "text": [
            "tf.Tensor(\n",
            "[[0. 0.]\n",
            " [0. 0.]], shape=(2, 2), dtype=float32)\n"
          ]
        }
      ]
    },
    {
      "cell_type": "markdown",
      "source": [
        "텐서의 데이터타입 \n",
        "\n",
        "안에 들어있는 거 알아서 판단해서 변환해줌 int, float \n",
        "\n",
        "보통 실수를 많이 넣음 \n"
      ],
      "metadata": {
        "id": "k2TzYkRGsPLG"
      }
    },
    {
      "cell_type": "code",
      "source": [
        "ten = tf.constant([3,4,5], tf.float32)\n",
        "print(ten)"
      ],
      "metadata": {
        "colab": {
          "base_uri": "https://localhost:8080/"
        },
        "id": "SL-MAHzfrGBA",
        "outputId": "350ece0e-0fef-4191-a94a-a74aa07ef916"
      },
      "execution_count": null,
      "outputs": [
        {
          "output_type": "stream",
          "name": "stdout",
          "text": [
            "tf.Tensor([3. 4. 5.], shape=(3,), dtype=float32)\n"
          ]
        }
      ]
    },
    {
      "cell_type": "code",
      "source": [
        "#w = tf.Variable()\n",
        "w = tf.Variable(1,0)\n",
        "print(w)\n",
        "# 딥러닝상의 가중치 weight \n",
        "# 형태가 Variable 변경이가능함! 텐서는 변경이 안되네 덧셈 뺄셈은 되는듯 \n",
        "# Variable 에 값 불러오려면 numpy 쓰면 됨 \n",
        "print(w.numpy())\n",
        "w.assign(2) # 실수 넣으니까 에러나네\n",
        "print(w)"
      ],
      "metadata": {
        "colab": {
          "base_uri": "https://localhost:8080/"
        },
        "id": "Msdebtrnv--n",
        "outputId": "64059650-89c6-4b96-a483-b73375768e3a"
      },
      "execution_count": null,
      "outputs": [
        {
          "output_type": "stream",
          "name": "stdout",
          "text": [
            "<tf.Variable 'Variable:0' shape=() dtype=int32, numpy=1>\n",
            "1\n",
            "<tf.Variable 'Variable:0' shape=() dtype=int32, numpy=2>\n"
          ]
        }
      ]
    },
    {
      "cell_type": "code",
      "source": [
        ""
      ],
      "metadata": {
        "id": "GR8GwhF5zMA9"
      },
      "execution_count": null,
      "outputs": []
    }
  ]
}