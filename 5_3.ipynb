{
  "cells": [
    {
      "cell_type": "markdown",
      "metadata": {
        "id": "SjLYHQ3kIRwa"
      },
      "source": [
        "# 트리의 앙상블"
      ]
    },
    {
      "cell_type": "markdown",
      "source": [
        "정형데이터\n",
        "- CSV 같이 어떤 구조로 정리되어 있는 데이터 \n",
        "- EX_ 엑셀 , csv , 데이터 베이스 등 \n",
        "\n",
        "비정형 데이터 \n",
        "- 엑셀이나 데이터베이스로 표현하기 어려운것\n",
        "- 텍스트 데이터 , 사진 , 음악 \n",
        "\n",
        "앙상블 학습 \n",
        "- 정형 데이터를 다루는데 가장 뛰어난 성과를 내는 알고리즘 \n",
        "- 대부분 결정 트리 기반으로 만들어짐 \n",
        "\n",
        "\n",
        "신경망 알고리즘\n",
        "- 비정형 데이터 다룰 때 사용\n",
        "- 규칙성을 찾기 어려울 때 \n",
        "\n"
      ],
      "metadata": {
        "id": "MV20BL7MIZL3"
      }
    },
    {
      "cell_type": "markdown",
      "metadata": {
        "id": "dIaIAizcRSG-"
      },
      "source": [
        "## 랜덤포레스트"
      ]
    },
    {
      "cell_type": "markdown",
      "source": [
        "- 앙상블 학습의 대표 주자 \n",
        "- 결정 트리를 랜덤하게 만들어 결정 트리 (나무)들의 숲으로 만들어 두고 각 결정 트리의 예측을 사용해서 최종 사용할 트리를 만든다 \n",
        "\n",
        "### 트리 훈령용 데이터 만들기\n",
        "- 훈련 데이터에서 랜덤하게 데이터를 추출하는데 중복이 가능 \n",
        "- 즉 훈련에 사용한 데이터를 쓰고 다시 또 뽑힐 가능성이 있다. \n",
        "- 제비뽑기가 아님 \n",
        "- 이를 **부트스트램 샘플** 이라함 \n",
        "- 부트스트랩 : 데이터 세으테엇 중복을 허용해 데이터 샘플링 하는 방식 \n",
        "\n",
        "\n"
      ],
      "metadata": {
        "id": "XT8roEcmIesD"
      }
    },
    {
      "cell_type": "code",
      "execution_count": null,
      "metadata": {
        "id": "ioJUlZ0M_uSZ"
      },
      "outputs": [],
      "source": [
        "import numpy as np\n",
        "import pandas as pd\n",
        "from sklearn.model_selection import train_test_split\n",
        "\n",
        "wine = pd.read_csv('https://bit.ly/wine-date')\n",
        "\n",
        "data = wine[['alcohol', 'sugar', 'pH']].to_numpy()\n",
        "target = wine['class'].to_numpy()\n",
        "\n",
        "# 트레이닝셋 테스트셋 만들기 \n",
        "train_input, test_input, train_target, test_target = train_test_split(data, target, test_size=0.2, random_state=42)"
      ]
    },
    {
      "cell_type": "code",
      "execution_count": null,
      "metadata": {
        "colab": {
          "base_uri": "https://localhost:8080/",
          "height": 35
        },
        "id": "JDKQudr7_8nu",
        "outputId": "248807d9-a9cf-4b47-c341-78a9b5c531a8"
      },
      "outputs": [
        {
          "name": "stdout",
          "output_type": "stream",
          "text": [
            "0.9973541965122431 0.8905151032797809\n"
          ]
        }
      ],
      "source": [
        "from sklearn.model_selection import cross_validate\n",
        "from sklearn.ensemble import RandomForestClassifier\n",
        "\n",
        "#cross_balidate() 함수 사용 교차검증 \n",
        "# n_jobs= -1 cpu 최대 사용 \n",
        "# return_train_score=True : 검증 점수 및 훈렌세트 점수 반환 \n",
        "rf = RandomForestClassifier(n_jobs=-1, random_state=42)\n",
        "scores = cross_validate(rf, train_input, train_target, return_train_score=True, n_jobs=-1)\n",
        "\n",
        "print(np.mean(scores['train_score']), np.mean(scores['test_score']))\n",
        "# 훈련세트가 99퍼니까 좀 과대적합의 경향이 있다 "
      ]
    },
    {
      "cell_type": "code",
      "execution_count": null,
      "metadata": {
        "colab": {
          "base_uri": "https://localhost:8080/",
          "height": 35
        },
        "id": "XYDbzXNLG8fK",
        "outputId": "705ea712-c357-4b30-ea4d-807dc78003ed"
      },
      "outputs": [
        {
          "name": "stdout",
          "output_type": "stream",
          "text": [
            "[0.23167441 0.50039841 0.26792718]\n"
          ]
        }
      ],
      "source": [
        "rf.fit(train_input, train_target)\n",
        "print(rf.feature_importances_)\n",
        "# 특성 중요도 파악 \n",
        "# 앞에 예제 5.2와 비교하면 당도 중요성이 감소하고 알코올 도수와 ph 중요도가 상승 \n",
        "# 랜덤 포레스트는 특성 일부를 랜덤하게 선택하여 결정 트리를 훈련하기 때문임 -> 하나의 특성에 과도하게 집중하는 것이 아니라\n",
        "# 더 많은 특성이 훈련에 기여함 \n",
        "# 과대 적합 줄이고 일반화 성능 늘림 "
      ]
    },
    {
      "cell_type": "code",
      "execution_count": null,
      "metadata": {
        "colab": {
          "base_uri": "https://localhost:8080/",
          "height": 35
        },
        "id": "oMc06S1Fa_A-",
        "outputId": "c95ac58f-b36d-4b5c-ea55-cbcbae49dcae"
      },
      "outputs": [
        {
          "name": "stdout",
          "output_type": "stream",
          "text": [
            "0.8934000384837406\n"
          ]
        }
      ],
      "source": [
        "# 부트 스트랩은 랜덤으로 중복을 허용해서 샘플을 뽑는데 그러다 보면 안 뽑히는 샘플들이 생김-> OBB\n",
        "# 0BB (out of bag) : 남는 샘플 // 이를 활용하여 부트스트랩 샘플로 훈련한 결정 트리 평가 가능 마루데 검증 세트 역할 \n",
        "# oob_score=True 를 통해 각 결정 트리 oob 점수 평균 출력 \n",
        "rf = RandomForestClassifier(oob_score=True, n_jobs=-1, random_state=42)\n",
        "\n",
        "rf.fit(train_input, train_target)\n",
        "print(rf.oob_score_)"
      ]
    },
    {
      "cell_type": "markdown",
      "metadata": {
        "id": "KdrVoeQZRU14"
      },
      "source": [
        "## 엑스트라트리"
      ]
    },
    {
      "cell_type": "markdown",
      "source": [
        "- 부트스트랩 지원 x : 중복 허용 x  -> 결정 트리 만들 때 전체 훈련세트 사용 \n",
        "- 노드 분할 시 가장좋은 분할을 찾는 것이아니라 무작위로 분할 \n",
        "- 특성을 무작위로 분할하기에 성능은 낮아지지만 많은 트리를 앙성블 하기에 과대적합을 막고 검증세트 점수를 높임 "
      ],
      "metadata": {
        "id": "uxrTQ_aJSZ2k"
      }
    },
    {
      "cell_type": "code",
      "execution_count": null,
      "metadata": {
        "colab": {
          "base_uri": "https://localhost:8080/",
          "height": 35
        },
        "id": "noMLdywdOGrE",
        "outputId": "e83303c0-f058-4d9f-9508-e00510e15ca8"
      },
      "outputs": [
        {
          "name": "stdout",
          "output_type": "stream",
          "text": [
            "0.9974503966084433 0.8887848893166506\n"
          ]
        }
      ],
      "source": [
        "from sklearn.ensemble import ExtraTreesClassifier\n",
        "\n",
        "et = ExtraTreesClassifier(n_jobs=-1, random_state=42)\n",
        "scores = cross_validate(et, train_input, train_target, return_train_score=True, n_jobs=-1)\n",
        "\n",
        "print(np.mean(scores['train_score']), np.mean(scores['test_score']))"
      ]
    },
    {
      "cell_type": "code",
      "execution_count": null,
      "metadata": {
        "colab": {
          "base_uri": "https://localhost:8080/",
          "height": 35
        },
        "id": "HnB0_mBqfcXL",
        "outputId": "f21039a3-d254-4632-e17b-059f3ca7b98b"
      },
      "outputs": [
        {
          "name": "stdout",
          "output_type": "stream",
          "text": [
            "[0.20183568 0.52242907 0.27573525]\n"
          ]
        }
      ],
      "source": [
        "et.fit(train_input, train_target)\n",
        "print(et.feature_importances_)"
      ]
    },
    {
      "cell_type": "markdown",
      "metadata": {
        "id": "csKxnaxeRX8s"
      },
      "source": [
        "## 그레이디언트 부스팅"
      ]
    },
    {
      "cell_type": "markdown",
      "source": [
        "- 깊이가 얕은 결정 트리 사용하여 이전 트리의 오차를 보완하는 방식의 앙상블\n",
        "- 기본 깊이 3인 결정트리 100개 사용 -> 과대적합에 강하고 높은 일반화성능 \n",
        "- 경사하강법을 통해 트리를 앙상블에 추가  : 경사가 낮은 곳으로 조금씩 이동 그레이디언트 붑스팅도 깊이가 얕은 트리로 찾음 "
      ],
      "metadata": {
        "id": "vllWvlxWTMp4"
      }
    },
    {
      "cell_type": "code",
      "execution_count": null,
      "metadata": {
        "colab": {
          "base_uri": "https://localhost:8080/",
          "height": 35
        },
        "id": "_IlNEFkaNsoG",
        "outputId": "2afd6bfb-d786-455d-a7a9-760ceceb0d88"
      },
      "outputs": [
        {
          "name": "stdout",
          "output_type": "stream",
          "text": [
            "0.8881086892152563 0.8720430147331015\n"
          ]
        }
      ],
      "source": [
        "from sklearn.ensemble import GradientBoostingClassifier\n",
        "\n",
        "gb = GradientBoostingClassifier(random_state=42)\n",
        "scores = cross_validate(gb, train_input, train_target, return_train_score=True, n_jobs=-1)\n",
        "\n",
        "print(np.mean(scores['train_score']), np.mean(scores['test_score']))"
      ]
    },
    {
      "cell_type": "code",
      "execution_count": null,
      "metadata": {
        "colab": {
          "base_uri": "https://localhost:8080/",
          "height": 35
        },
        "id": "pNpeS8EWpeEi",
        "outputId": "9a1656a2-fa47-400f-d410-3ef7fe2312c3"
      },
      "outputs": [
        {
          "name": "stdout",
          "output_type": "stream",
          "text": [
            "0.9464595437171814 0.8780082549788999\n"
          ]
        }
      ],
      "source": [
        "gb = GradientBoostingClassifier(n_estimators=500, learning_rate=0.2, random_state=42)\n",
        "scores = cross_validate(gb, train_input, train_target, return_train_score=True, n_jobs=-1)\n",
        "\n",
        "print(np.mean(scores['train_score']), np.mean(scores['test_score']))"
      ]
    },
    {
      "cell_type": "code",
      "execution_count": null,
      "metadata": {
        "colab": {
          "base_uri": "https://localhost:8080/",
          "height": 35
        },
        "id": "qD6iWVsGqCAE",
        "outputId": "948a8ae8-bdc4-4777-fdab-282fbbe8709e"
      },
      "outputs": [
        {
          "name": "stdout",
          "output_type": "stream",
          "text": [
            "[0.15872278 0.68010884 0.16116839]\n"
          ]
        }
      ],
      "source": [
        "gb.fit(train_input, train_target)\n",
        "print(gb.feature_importances_)"
      ]
    },
    {
      "cell_type": "markdown",
      "metadata": {
        "id": "BthW_II9RbLa"
      },
      "source": [
        "## 히스토그램 기반 부스팅"
      ]
    },
    {
      "cell_type": "markdown",
      "source": [
        "- 인기 있는 정형 데이터용ㅇ 알고리즘 "
      ],
      "metadata": {
        "id": "Jlc7BZAYTvhp"
      }
    },
    {
      "cell_type": "code",
      "execution_count": null,
      "metadata": {
        "colab": {
          "base_uri": "https://localhost:8080/",
          "height": 35
        },
        "id": "_3Ct_NNWQbdA",
        "outputId": "8f9b8ad7-a7a2-4aae-c44a-e4b577a71d99"
      },
      "outputs": [
        {
          "name": "stdout",
          "output_type": "stream",
          "text": [
            "0.9321723946453317 0.8801241948619236\n"
          ]
        }
      ],
      "source": [
        "from sklearn.experimental import enable_hist_gradient_boosting\n",
        "from sklearn.ensemble import HistGradientBoostingClassifier\n",
        "\n",
        "hgb = HistGradientBoostingClassifier(random_state=42)\n",
        "scores = cross_validate(hgb, train_input, train_target, return_train_score=True, n_jobs=-1)\n",
        "\n",
        "print(np.mean(scores['train_score']), np.mean(scores['test_score']))"
      ]
    },
    {
      "cell_type": "code",
      "execution_count": null,
      "metadata": {
        "colab": {
          "base_uri": "https://localhost:8080/",
          "height": 35
        },
        "id": "TvlB0GMTS3hn",
        "outputId": "38fc3c42-595c-4611-a7a4-d8813ac09f05"
      },
      "outputs": [
        {
          "name": "stdout",
          "output_type": "stream",
          "text": [
            "[0.23167441 0.50039841 0.26792718]\n"
          ]
        }
      ],
      "source": [
        "hgb.fit(train_input, train_target)\n",
        "print(rf.feature_importances_)"
      ]
    },
    {
      "cell_type": "code",
      "execution_count": null,
      "metadata": {
        "colab": {
          "base_uri": "https://localhost:8080/",
          "height": 35
        },
        "id": "pqplZjh0j2nw",
        "outputId": "652cbcd7-3636-40f8-ec31-e56e304e29da"
      },
      "outputs": [
        {
          "data": {
            "text/plain": [
              "0.8723076923076923"
            ]
          },
          "execution_count": 36,
          "metadata": {
            "tags": []
          },
          "output_type": "execute_result"
        }
      ],
      "source": [
        "hgb.score(test_input, test_target)"
      ]
    },
    {
      "cell_type": "markdown",
      "metadata": {
        "id": "8fz_FrezBezR"
      },
      "source": [
        "#### XGBoost"
      ]
    },
    {
      "cell_type": "code",
      "execution_count": null,
      "metadata": {
        "colab": {
          "base_uri": "https://localhost:8080/",
          "height": 35
        },
        "id": "YBYLvOiV6rga",
        "outputId": "93f59f85-e029-41ab-ee63-f5d860e31f5d"
      },
      "outputs": [
        {
          "name": "stdout",
          "output_type": "stream",
          "text": [
            "0.8827690284750664 0.8708899089361072\n"
          ]
        }
      ],
      "source": [
        "from xgboost import XGBClassifier\n",
        "\n",
        "xgb = XGBClassifier(tree_method='hist', random_state=42)\n",
        "scores = cross_validate(xgb, train_input, train_target, return_train_score=True, n_jobs=-1)\n",
        "\n",
        "print(np.mean(scores['train_score']), np.mean(scores['test_score']))"
      ]
    },
    {
      "cell_type": "markdown",
      "metadata": {
        "id": "zl6nh6DOBd-B"
      },
      "source": [
        "#### LightGBM"
      ]
    },
    {
      "cell_type": "code",
      "execution_count": null,
      "metadata": {
        "colab": {
          "base_uri": "https://localhost:8080/",
          "height": 35
        },
        "id": "maihlDMP7lmY",
        "outputId": "c6f169ac-3a05-48a7-9c6d-c9b1b24890ee"
      },
      "outputs": [
        {
          "name": "stdout",
          "output_type": "stream",
          "text": [
            "0.9338079582727165 0.8789710890649293\n"
          ]
        }
      ],
      "source": [
        "from lightgbm import LGBMClassifier\n",
        "\n",
        "lgb = LGBMClassifier(random_state=42)\n",
        "scores = cross_validate(lgb, train_input, train_target, return_train_score=True, n_jobs=-1)\n",
        "\n",
        "print(np.mean(scores['train_score']), np.mean(scores['test_score']))"
      ]
    }
  ],
  "metadata": {
    "colab": {
      "collapsed_sections": [],
      "name": "5-3.ipynb",
      "provenance": []
    },
    "kernelspec": {
      "display_name": "TensorFlow 2.3 on Python 3.6 (CUDA 10.1)",
      "language": "python",
      "name": "python3"
    },
    "language_info": {
      "codemirror_mode": {
        "name": "ipython",
        "version": 3
      },
      "file_extension": ".py",
      "mimetype": "text/x-python",
      "name": "python",
      "nbconvert_exporter": "python",
      "pygments_lexer": "ipython3",
      "version": "3.6.9"
    }
  },
  "nbformat": 4,
  "nbformat_minor": 0
}